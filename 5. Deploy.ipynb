{
 "cells": [
  {
   "cell_type": "code",
   "execution_count": 9,
   "id": "WKqxUyfsBrZP",
   "metadata": {
    "executionInfo": {
     "elapsed": 437,
     "status": "ok",
     "timestamp": 1686758998962,
     "user": {
      "displayName": "Thế Chương Trịnh",
      "userId": "09949242108313888172"
     },
     "user_tz": -420
    },
    "id": "WKqxUyfsBrZP"
   },
   "outputs": [],
   "source": [
    "import os\n",
    "from IPython.display import clear_output\n",
    "import pickle\n",
    "data_path = './raw_data_features/RDK7.csv'\n",
    "activity_col = 'pChEMBL Value'\n",
    "task_type = 'C'\n",
    "target_thresh = 7\n",
    "var_thresh = 0.05\n",
    "scoring = 'f1'\n",
    "\n",
    "\n",
    "\n",
    "\n",
    "# Create directory for raw result\n",
    "SAVE_PREFIX = os.getcwd()+\"/utility/\"\n",
    "\n",
    "if os.path.isdir(SAVE_PREFIX) == False:\n",
    "    os.mkdir(SAVE_PREFIX)\n",
    "else:\n",
    "    pass\n",
    "\n",
    "def savefile(fname, lst, save_dir):\n",
    "    with open(save_dir + fname, \"w\") as f:\n",
    "        f.write(str(list(lst)))"
   ]
  },
  {
   "cell_type": "code",
   "execution_count": 10,
   "id": "ace80ec0-94c8-4544-9361-a7975210d53a",
   "metadata": {},
   "outputs": [],
   "source": [
    "import os\n",
    "import sys\n",
    "import pandas as pd\n",
    "sys.path.append('qsar')\n",
    "from Data_integration import Data_Integration\n",
    "from Data_preprocess import Data_preprocess\n",
    "from Outliers_handling import Univariate_Outliers, Mutivariate_Outliers\n",
    "from Rescale import rescale\n",
    "from Feature_selection import feature_selection_pipeline\n",
    "from Feature_engineering import feature_engineering\n",
    "from Model_selection import model_selection\n",
    "from Meta_analysis import statistic_data, statistic_test\n",
    "from Posthoc import statical_test"
   ]
  },
  {
   "cell_type": "markdown",
   "id": "q4024ZC0kefu",
   "metadata": {
    "id": "q4024ZC0kefu"
   },
   "source": [
    "# **1. Data Itegration and Partition**"
   ]
  },
  {
   "cell_type": "code",
   "execution_count": 11,
   "id": "xA8_ObJTW_14",
   "metadata": {
    "executionInfo": {
     "elapsed": 436,
     "status": "ok",
     "timestamp": 1686759308755,
     "user": {
      "displayName": "Thế Chương Trịnh",
      "userId": "09949242108313888172"
     },
     "user_tz": -420
    },
    "id": "xA8_ObJTW_14"
   },
   "outputs": [
    {
     "data": {
      "text/html": [
       "<div>\n",
       "<style scoped>\n",
       "    .dataframe tbody tr th:only-of-type {\n",
       "        vertical-align: middle;\n",
       "    }\n",
       "\n",
       "    .dataframe tbody tr th {\n",
       "        vertical-align: top;\n",
       "    }\n",
       "\n",
       "    .dataframe thead th {\n",
       "        text-align: right;\n",
       "    }\n",
       "</style>\n",
       "<table border=\"1\" class=\"dataframe\">\n",
       "  <thead>\n",
       "    <tr style=\"text-align: right;\">\n",
       "      <th></th>\n",
       "      <th>pChEMBL Value</th>\n",
       "      <th>Canomicalsmiles</th>\n",
       "      <th>0</th>\n",
       "      <th>1</th>\n",
       "      <th>2</th>\n",
       "      <th>3</th>\n",
       "      <th>4</th>\n",
       "      <th>5</th>\n",
       "      <th>6</th>\n",
       "      <th>7</th>\n",
       "      <th>...</th>\n",
       "      <th>4086</th>\n",
       "      <th>4087</th>\n",
       "      <th>4088</th>\n",
       "      <th>4089</th>\n",
       "      <th>4090</th>\n",
       "      <th>4091</th>\n",
       "      <th>4092</th>\n",
       "      <th>4093</th>\n",
       "      <th>4094</th>\n",
       "      <th>4095</th>\n",
       "    </tr>\n",
       "  </thead>\n",
       "  <tbody>\n",
       "    <tr>\n",
       "      <th>0</th>\n",
       "      <td>9.30</td>\n",
       "      <td>O=C(NCc1ccc(F)cc1)c1nc(N2CCCCS2(=O)=O)c2cccnc2c1O</td>\n",
       "      <td>1</td>\n",
       "      <td>0</td>\n",
       "      <td>1</td>\n",
       "      <td>0</td>\n",
       "      <td>0</td>\n",
       "      <td>1</td>\n",
       "      <td>0</td>\n",
       "      <td>0</td>\n",
       "      <td>...</td>\n",
       "      <td>1</td>\n",
       "      <td>1</td>\n",
       "      <td>1</td>\n",
       "      <td>0</td>\n",
       "      <td>0</td>\n",
       "      <td>0</td>\n",
       "      <td>0</td>\n",
       "      <td>1</td>\n",
       "      <td>0</td>\n",
       "      <td>0</td>\n",
       "    </tr>\n",
       "    <tr>\n",
       "      <th>1</th>\n",
       "      <td>9.22</td>\n",
       "      <td>NC(=O)c1c2c(c(O)c3ncc(Cc4cccc(Cl)c4F)cc13)C(=O...</td>\n",
       "      <td>1</td>\n",
       "      <td>1</td>\n",
       "      <td>0</td>\n",
       "      <td>0</td>\n",
       "      <td>0</td>\n",
       "      <td>1</td>\n",
       "      <td>0</td>\n",
       "      <td>1</td>\n",
       "      <td>...</td>\n",
       "      <td>1</td>\n",
       "      <td>1</td>\n",
       "      <td>0</td>\n",
       "      <td>0</td>\n",
       "      <td>0</td>\n",
       "      <td>1</td>\n",
       "      <td>0</td>\n",
       "      <td>0</td>\n",
       "      <td>0</td>\n",
       "      <td>0</td>\n",
       "    </tr>\n",
       "    <tr>\n",
       "      <th>2</th>\n",
       "      <td>9.15</td>\n",
       "      <td>NC(=O)c1c2c(c(O)c3ncc(Cc4cccc(Cl)c4F)cc13)C(=O...</td>\n",
       "      <td>1</td>\n",
       "      <td>1</td>\n",
       "      <td>0</td>\n",
       "      <td>0</td>\n",
       "      <td>0</td>\n",
       "      <td>1</td>\n",
       "      <td>0</td>\n",
       "      <td>1</td>\n",
       "      <td>...</td>\n",
       "      <td>1</td>\n",
       "      <td>1</td>\n",
       "      <td>0</td>\n",
       "      <td>0</td>\n",
       "      <td>0</td>\n",
       "      <td>1</td>\n",
       "      <td>0</td>\n",
       "      <td>0</td>\n",
       "      <td>0</td>\n",
       "      <td>0</td>\n",
       "    </tr>\n",
       "    <tr>\n",
       "      <th>3</th>\n",
       "      <td>9.00</td>\n",
       "      <td>CC(C)n1c(=O)c(C(=O)NCc2ccc(F)cc2)c(O)c2ncccc21</td>\n",
       "      <td>0</td>\n",
       "      <td>1</td>\n",
       "      <td>0</td>\n",
       "      <td>0</td>\n",
       "      <td>0</td>\n",
       "      <td>1</td>\n",
       "      <td>0</td>\n",
       "      <td>0</td>\n",
       "      <td>...</td>\n",
       "      <td>0</td>\n",
       "      <td>1</td>\n",
       "      <td>0</td>\n",
       "      <td>1</td>\n",
       "      <td>0</td>\n",
       "      <td>1</td>\n",
       "      <td>0</td>\n",
       "      <td>0</td>\n",
       "      <td>0</td>\n",
       "      <td>0</td>\n",
       "    </tr>\n",
       "    <tr>\n",
       "      <th>4</th>\n",
       "      <td>8.74</td>\n",
       "      <td>COc1cc2c(cc1Cc1cccc(Cl)c1F)c(=O)c(C(=O)O)cn2[C...</td>\n",
       "      <td>0</td>\n",
       "      <td>1</td>\n",
       "      <td>0</td>\n",
       "      <td>0</td>\n",
       "      <td>0</td>\n",
       "      <td>1</td>\n",
       "      <td>0</td>\n",
       "      <td>1</td>\n",
       "      <td>...</td>\n",
       "      <td>1</td>\n",
       "      <td>0</td>\n",
       "      <td>1</td>\n",
       "      <td>0</td>\n",
       "      <td>0</td>\n",
       "      <td>1</td>\n",
       "      <td>0</td>\n",
       "      <td>0</td>\n",
       "      <td>0</td>\n",
       "      <td>0</td>\n",
       "    </tr>\n",
       "  </tbody>\n",
       "</table>\n",
       "<p>5 rows × 4098 columns</p>\n",
       "</div>"
      ],
      "text/plain": [
       "   pChEMBL Value                                    Canomicalsmiles  0  1  2  \\\n",
       "0           9.30  O=C(NCc1ccc(F)cc1)c1nc(N2CCCCS2(=O)=O)c2cccnc2c1O  1  0  1   \n",
       "1           9.22  NC(=O)c1c2c(c(O)c3ncc(Cc4cccc(Cl)c4F)cc13)C(=O...  1  1  0   \n",
       "2           9.15  NC(=O)c1c2c(c(O)c3ncc(Cc4cccc(Cl)c4F)cc13)C(=O...  1  1  0   \n",
       "3           9.00     CC(C)n1c(=O)c(C(=O)NCc2ccc(F)cc2)c(O)c2ncccc21  0  1  0   \n",
       "4           8.74  COc1cc2c(cc1Cc1cccc(Cl)c1F)c(=O)c(C(=O)O)cn2[C...  0  1  0   \n",
       "\n",
       "   3  4  5  6  7  ...  4086  4087  4088  4089  4090  4091  4092  4093  4094  \\\n",
       "0  0  0  1  0  0  ...     1     1     1     0     0     0     0     1     0   \n",
       "1  0  0  1  0  1  ...     1     1     0     0     0     1     0     0     0   \n",
       "2  0  0  1  0  1  ...     1     1     0     0     0     1     0     0     0   \n",
       "3  0  0  1  0  0  ...     0     1     0     1     0     1     0     0     0   \n",
       "4  0  0  1  0  1  ...     1     0     1     0     0     1     0     0     0   \n",
       "\n",
       "   4095  \n",
       "0     0  \n",
       "1     0  \n",
       "2     0  \n",
       "3     0  \n",
       "4     0  \n",
       "\n",
       "[5 rows x 4098 columns]"
      ]
     },
     "execution_count": 11,
     "metadata": {},
     "output_type": "execute_result"
    }
   ],
   "source": [
    "data = pd.read_csv(data_path)\n",
    "data.head()"
   ]
  },
  {
   "cell_type": "code",
   "execution_count": 12,
   "id": "f0937998-c7a6-480f-ba8d-7712fadf84e2",
   "metadata": {},
   "outputs": [],
   "source": [
    "data.drop(['Canomicalsmiles'], axis =1, inplace = True)"
   ]
  },
  {
   "cell_type": "code",
   "execution_count": 13,
   "id": "65e8498d-4781-4d2f-a07a-67cb961f3383",
   "metadata": {},
   "outputs": [
    {
     "name": "stdout",
     "output_type": "stream",
     "text": [
      "Data train: (1995, 4097)\n",
      "Data test: (499, 4097)\n",
      "***************************************************************************\n"
     ]
    },
    {
     "data": {
      "image/png": "[encoded data removed]",
      "text/plain": [
       "<Figure size 1600x500 with 2 Axes>"
      ]
     },
     "metadata": {},
     "output_type": "display_data"
    }
   ],
   "source": [
    "integration = Data_Integration(data, activity_col = activity_col, task_type= task_type, target_thresh = target_thresh)\n",
    "integration.fit()\n",
    "Data_train = integration.data_train\n",
    "Data_test = integration.data_test"
   ]
  },
  {
   "cell_type": "code",
   "execution_count": 14,
   "id": "2b43c6f0-eb69-4ff4-a3c9-f6c36d18f4ab",
   "metadata": {},
   "outputs": [],
   "source": [
    "import warnings\n",
    "warnings.filterwarnings('ignore')"
   ]
  },
  {
   "cell_type": "markdown",
   "id": "ee2207aa",
   "metadata": {
    "id": "ee2207aa"
   },
   "source": [
    "# **2. Data Preprocessing**"
   ]
  },
  {
   "cell_type": "code",
   "execution_count": 15,
   "id": "10efaf35-234d-4ef4-b3ed-6cf8b7aad579",
   "metadata": {},
   "outputs": [
    {
     "name": "stdout",
     "output_type": "stream",
     "text": [
      "Total duplicated rows-train: 63\n",
      "Data train before drop duplicates: 1995\n",
      "Data train after drop duplicates: 1932\n",
      "***************************************************************************\n",
      "Total duplicated rows-test: 4\n",
      "Data test before drop duplicates: 499\n",
      "Data test after drop duplicates: 495\n",
      "***************************************************************************\n",
      "Index(['2342'], dtype='object')\n",
      "Total similar columns: 1\n",
      "Data train before drop duplicates: (1932, 4097)\n",
      "Data after drop duplicates: (1932, 4096)\n",
      "***************************************************************************\n",
      "Data test before drop duplicates: (495, 4097)\n",
      "Data test after drop duplicates: (495, 4096)\n",
      "***************************************************************************\n",
      "Empty DataFrame\n",
      "Columns: [ColumnName, TotalMissingVals, PercentMissing]\n",
      "Index: []\n",
      "Drop_cols []\n",
      "Total missing value-train 0\n",
      "Total missing value-test 0\n"
     ]
    },
    {
     "data": {
      "text/html": [
       "<div>\n",
       "<style scoped>\n",
       "    .dataframe tbody tr th:only-of-type {\n",
       "        vertical-align: middle;\n",
       "    }\n",
       "\n",
       "    .dataframe tbody tr th {\n",
       "        vertical-align: top;\n",
       "    }\n",
       "\n",
       "    .dataframe thead th {\n",
       "        text-align: right;\n",
       "    }\n",
       "</style>\n",
       "<table border=\"1\" class=\"dataframe\">\n",
       "  <thead>\n",
       "    <tr style=\"text-align: right;\">\n",
       "      <th></th>\n",
       "      <th>pChEMBL Value</th>\n",
       "      <th>0</th>\n",
       "      <th>1</th>\n",
       "      <th>2</th>\n",
       "      <th>3</th>\n",
       "      <th>4</th>\n",
       "      <th>5</th>\n",
       "      <th>6</th>\n",
       "      <th>7</th>\n",
       "      <th>8</th>\n",
       "      <th>...</th>\n",
       "      <th>4086</th>\n",
       "      <th>4087</th>\n",
       "      <th>4088</th>\n",
       "      <th>4089</th>\n",
       "      <th>4090</th>\n",
       "      <th>4091</th>\n",
       "      <th>4092</th>\n",
       "      <th>4093</th>\n",
       "      <th>4094</th>\n",
       "      <th>4095</th>\n",
       "    </tr>\n",
       "  </thead>\n",
       "  <tbody>\n",
       "  </tbody>\n",
       "</table>\n",
       "<p>0 rows × 4096 columns</p>\n",
       "</div>"
      ],
      "text/plain": [
       "Empty DataFrame\n",
       "Columns: [pChEMBL Value, 0, 1, 2, 3, 4, 5, 6, 7, 8, 9, 10, 11, 12, 13, 14, 15, 16, 17, 18, 19, 20, 21, 22, 23, 24, 25, 26, 27, 28, 29, 30, 31, 32, 33, 34, 35, 36, 37, 38, 39, 40, 41, 42, 43, 44, 45, 46, 47, 48, 49, 50, 51, 52, 53, 54, 55, 56, 57, 58, 59, 60, 61, 62, 63, 64, 65, 66, 67, 68, 69, 70, 71, 72, 73, 74, 75, 76, 77, 78, 79, 80, 81, 82, 83, 84, 85, 86, 87, 88, 89, 90, 91, 92, 93, 94, 95, 96, 97, 98, ...]\n",
       "Index: []\n",
       "\n",
       "[0 rows x 4096 columns]"
      ]
     },
     "metadata": {},
     "output_type": "display_data"
    },
    {
     "name": "stdout",
     "output_type": "stream",
     "text": [
      "Total row-train with missing value 0\n"
     ]
    },
    {
     "data": {
      "text/html": [
       "<div>\n",
       "<style scoped>\n",
       "    .dataframe tbody tr th:only-of-type {\n",
       "        vertical-align: middle;\n",
       "    }\n",
       "\n",
       "    .dataframe tbody tr th {\n",
       "        vertical-align: top;\n",
       "    }\n",
       "\n",
       "    .dataframe thead th {\n",
       "        text-align: right;\n",
       "    }\n",
       "</style>\n",
       "<table border=\"1\" class=\"dataframe\">\n",
       "  <thead>\n",
       "    <tr style=\"text-align: right;\">\n",
       "      <th></th>\n",
       "      <th>pChEMBL Value</th>\n",
       "      <th>0</th>\n",
       "      <th>1</th>\n",
       "      <th>2</th>\n",
       "      <th>3</th>\n",
       "      <th>4</th>\n",
       "      <th>5</th>\n",
       "      <th>6</th>\n",
       "      <th>7</th>\n",
       "      <th>8</th>\n",
       "      <th>...</th>\n",
       "      <th>4086</th>\n",
       "      <th>4087</th>\n",
       "      <th>4088</th>\n",
       "      <th>4089</th>\n",
       "      <th>4090</th>\n",
       "      <th>4091</th>\n",
       "      <th>4092</th>\n",
       "      <th>4093</th>\n",
       "      <th>4094</th>\n",
       "      <th>4095</th>\n",
       "    </tr>\n",
       "  </thead>\n",
       "  <tbody>\n",
       "  </tbody>\n",
       "</table>\n",
       "<p>0 rows × 4096 columns</p>\n",
       "</div>"
      ],
      "text/plain": [
       "Empty DataFrame\n",
       "Columns: [pChEMBL Value, 0, 1, 2, 3, 4, 5, 6, 7, 8, 9, 10, 11, 12, 13, 14, 15, 16, 17, 18, 19, 20, 21, 22, 23, 24, 25, 26, 27, 28, 29, 30, 31, 32, 33, 34, 35, 36, 37, 38, 39, 40, 41, 42, 43, 44, 45, 46, 47, 48, 49, 50, 51, 52, 53, 54, 55, 56, 57, 58, 59, 60, 61, 62, 63, 64, 65, 66, 67, 68, 69, 70, 71, 72, 73, 74, 75, 76, 77, 78, 79, 80, 81, 82, 83, 84, 85, 86, 87, 88, 89, 90, 91, 92, 93, 94, 95, 96, 97, 98, ...]\n",
       "Index: []\n",
       "\n",
       "[0 rows x 4096 columns]"
      ]
     },
     "metadata": {},
     "output_type": "display_data"
    },
    {
     "name": "stdout",
     "output_type": "stream",
     "text": [
      "Total row-test with missing value 0\n",
      "(1932, 4095) (1932,)\n",
      ">Threshold=0.00, Features=4095\n",
      ">Threshold=0.05, Features=4058\n",
      ">Threshold=0.10, Features=3645\n",
      ">Threshold=0.15, Features=2721\n",
      ">Threshold=0.20, Features=1619\n"
     ]
    },
    {
     "data": {
      "image/png": "[encoded data removed]",
      "text/plain": [
       "<Figure size 1400x800 with 1 Axes>"
      ]
     },
     "metadata": {},
     "output_type": "display_data"
    },
    {
     "name": "stdout",
     "output_type": "stream",
     "text": [
      "***************************************************************************\n"
     ]
    },
    {
     "data": {
      "text/html": [
       "<div>\n",
       "<style scoped>\n",
       "    .dataframe tbody tr th:only-of-type {\n",
       "        vertical-align: middle;\n",
       "    }\n",
       "\n",
       "    .dataframe tbody tr th {\n",
       "        vertical-align: top;\n",
       "    }\n",
       "\n",
       "    .dataframe thead th {\n",
       "        text-align: right;\n",
       "    }\n",
       "</style>\n",
       "<table border=\"1\" class=\"dataframe\">\n",
       "  <thead>\n",
       "    <tr style=\"text-align: right;\">\n",
       "      <th></th>\n",
       "      <th>pChEMBL Value</th>\n",
       "      <th>0</th>\n",
       "      <th>1</th>\n",
       "      <th>2</th>\n",
       "      <th>3</th>\n",
       "      <th>4</th>\n",
       "      <th>5</th>\n",
       "      <th>6</th>\n",
       "      <th>7</th>\n",
       "      <th>8</th>\n",
       "      <th>...</th>\n",
       "      <th>4086</th>\n",
       "      <th>4087</th>\n",
       "      <th>4088</th>\n",
       "      <th>4089</th>\n",
       "      <th>4090</th>\n",
       "      <th>4091</th>\n",
       "      <th>4092</th>\n",
       "      <th>4093</th>\n",
       "      <th>4094</th>\n",
       "      <th>4095</th>\n",
       "    </tr>\n",
       "  </thead>\n",
       "  <tbody>\n",
       "    <tr>\n",
       "      <th>0</th>\n",
       "      <td>0</td>\n",
       "      <td>0</td>\n",
       "      <td>0</td>\n",
       "      <td>0</td>\n",
       "      <td>0</td>\n",
       "      <td>0</td>\n",
       "      <td>0</td>\n",
       "      <td>1</td>\n",
       "      <td>0</td>\n",
       "      <td>0</td>\n",
       "      <td>...</td>\n",
       "      <td>0</td>\n",
       "      <td>1</td>\n",
       "      <td>0</td>\n",
       "      <td>1</td>\n",
       "      <td>0</td>\n",
       "      <td>0</td>\n",
       "      <td>0</td>\n",
       "      <td>0</td>\n",
       "      <td>0</td>\n",
       "      <td>0</td>\n",
       "    </tr>\n",
       "    <tr>\n",
       "      <th>1</th>\n",
       "      <td>0</td>\n",
       "      <td>0</td>\n",
       "      <td>1</td>\n",
       "      <td>0</td>\n",
       "      <td>0</td>\n",
       "      <td>0</td>\n",
       "      <td>1</td>\n",
       "      <td>0</td>\n",
       "      <td>0</td>\n",
       "      <td>1</td>\n",
       "      <td>...</td>\n",
       "      <td>0</td>\n",
       "      <td>0</td>\n",
       "      <td>0</td>\n",
       "      <td>0</td>\n",
       "      <td>0</td>\n",
       "      <td>0</td>\n",
       "      <td>0</td>\n",
       "      <td>0</td>\n",
       "      <td>0</td>\n",
       "      <td>0</td>\n",
       "    </tr>\n",
       "    <tr>\n",
       "      <th>2</th>\n",
       "      <td>0</td>\n",
       "      <td>0</td>\n",
       "      <td>0</td>\n",
       "      <td>0</td>\n",
       "      <td>1</td>\n",
       "      <td>0</td>\n",
       "      <td>0</td>\n",
       "      <td>0</td>\n",
       "      <td>0</td>\n",
       "      <td>0</td>\n",
       "      <td>...</td>\n",
       "      <td>0</td>\n",
       "      <td>0</td>\n",
       "      <td>0</td>\n",
       "      <td>0</td>\n",
       "      <td>0</td>\n",
       "      <td>0</td>\n",
       "      <td>0</td>\n",
       "      <td>0</td>\n",
       "      <td>0</td>\n",
       "      <td>0</td>\n",
       "    </tr>\n",
       "    <tr>\n",
       "      <th>3</th>\n",
       "      <td>0</td>\n",
       "      <td>1</td>\n",
       "      <td>1</td>\n",
       "      <td>0</td>\n",
       "      <td>0</td>\n",
       "      <td>0</td>\n",
       "      <td>0</td>\n",
       "      <td>0</td>\n",
       "      <td>0</td>\n",
       "      <td>0</td>\n",
       "      <td>...</td>\n",
       "      <td>1</td>\n",
       "      <td>0</td>\n",
       "      <td>0</td>\n",
       "      <td>0</td>\n",
       "      <td>0</td>\n",
       "      <td>0</td>\n",
       "      <td>0</td>\n",
       "      <td>0</td>\n",
       "      <td>1</td>\n",
       "      <td>0</td>\n",
       "    </tr>\n",
       "    <tr>\n",
       "      <th>4</th>\n",
       "      <td>1</td>\n",
       "      <td>1</td>\n",
       "      <td>1</td>\n",
       "      <td>0</td>\n",
       "      <td>0</td>\n",
       "      <td>0</td>\n",
       "      <td>1</td>\n",
       "      <td>0</td>\n",
       "      <td>0</td>\n",
       "      <td>0</td>\n",
       "      <td>...</td>\n",
       "      <td>0</td>\n",
       "      <td>0</td>\n",
       "      <td>0</td>\n",
       "      <td>0</td>\n",
       "      <td>1</td>\n",
       "      <td>0</td>\n",
       "      <td>0</td>\n",
       "      <td>0</td>\n",
       "      <td>1</td>\n",
       "      <td>1</td>\n",
       "    </tr>\n",
       "  </tbody>\n",
       "</table>\n",
       "<p>5 rows × 4059 columns</p>\n",
       "</div>"
      ],
      "text/plain": [
       "   pChEMBL Value  0  1  2  3  4  5  6  7  8  ...  4086  4087  4088  4089  \\\n",
       "0              0  0  0  0  0  0  0  1  0  0  ...     0     1     0     1   \n",
       "1              0  0  1  0  0  0  1  0  0  1  ...     0     0     0     0   \n",
       "2              0  0  0  0  1  0  0  0  0  0  ...     0     0     0     0   \n",
       "3              0  1  1  0  0  0  0  0  0  0  ...     1     0     0     0   \n",
       "4              1  1  1  0  0  0  1  0  0  0  ...     0     0     0     0   \n",
       "\n",
       "   4090  4091  4092  4093  4094  4095  \n",
       "0     0     0     0     0     0     0  \n",
       "1     0     0     0     0     0     0  \n",
       "2     0     0     0     0     0     0  \n",
       "3     0     0     0     0     1     0  \n",
       "4     1     0     0     0     1     1  \n",
       "\n",
       "[5 rows x 4059 columns]"
      ]
     },
     "metadata": {},
     "output_type": "display_data"
    }
   ],
   "source": [
    "from Data_preprocess import Data_preprocess\n",
    "preprocess = Data_preprocess(Data_train, Data_test, var_thresh = var_thresh,\n",
    "                                     activity_col = activity_col)\n",
    "preprocess.fit()\n",
    "Data_train = preprocess.data_train\n",
    "Data_test = preprocess.data_test"
   ]
  },
  {
   "cell_type": "code",
   "execution_count": 16,
   "id": "3ecc167f-8926-4572-8f4f-7cc4e2648e25",
   "metadata": {},
   "outputs": [],
   "source": [
    "savefile(\"DUP_COL.txt\", list(preprocess.idx), SAVE_PREFIX)  \n",
    "savefile(\"drop_cols.txt\", list(preprocess.drop_cols), SAVE_PREFIX)  \n",
    "savefile(\"Variance_Cols.txt\", list(preprocess.lst), SAVE_PREFIX)    \n",
    "savefile(\"Nomial_Col.txt\",list(preprocess.col), SAVE_PREFIX)"
   ]
  },
  {
   "cell_type": "markdown",
   "id": "2922f5d2",
   "metadata": {
    "id": "2922f5d2"
   },
   "source": [
    "# **3. Outlier Handeling**"
   ]
  },
  {
   "cell_type": "code",
   "execution_count": 17,
   "id": "f6ec2bdb-f439-4b2f-acbc-b42119067bbc",
   "metadata": {},
   "outputs": [
    {
     "name": "stdout",
     "output_type": "stream",
     "text": [
      "Remove by IQR without handling\n",
      "Total data remove on Train 0\n",
      "Total data remove on Test 0\n",
      "Number of good features: 0\n",
      "Number of bad features with data remove > 0: 0\n",
      "***************************************************************************\n",
      "Uniform Transformer technique\n"
     ]
    },
    {
     "data": {
      "text/plain": [
       "(1932, 4059)"
      ]
     },
     "execution_count": 17,
     "metadata": {},
     "output_type": "execute_result"
    }
   ],
   "source": [
    "univariate = Univariate_Outliers(Data_train, Data_test, \n",
    "                                   activity_col= activity_col, handling_method = 'Transformation',\n",
    "                                   Kbin_handling ='Y', variance_threshold = 'Y')\n",
    "univariate.fit()\n",
    "Data_train = univariate.data_train\n",
    "Data_test = univariate.data_test\n",
    "Data_train.shape"
   ]
  },
  {
   "cell_type": "code",
   "execution_count": 18,
   "id": "a7c2e69a-496b-4a4c-a893-6b0b7451b565",
   "metadata": {},
   "outputs": [
    {
     "name": "stdout",
     "output_type": "stream",
     "text": [
      "Total outlier remove by LOF: 112\n"
     ]
    }
   ],
   "source": [
    "mutivariate = Mutivariate_Outliers(Data_train,Data_test, \n",
    "                                           method = 'LocalOutlierFactor')\n",
    "mutivariate.fit()\n",
    "Data_train = mutivariate.data_train\n",
    "Data_test = mutivariate.data_test"
   ]
  },
  {
   "cell_type": "markdown",
   "id": "e5590c46-522b-491b-b742-0669b2f3b711",
   "metadata": {},
   "source": [
    "# 4. Rescale"
   ]
  },
  {
   "cell_type": "code",
   "execution_count": 19,
   "id": "f394f262-dea5-4848-8fa7-ec6c698ea12f",
   "metadata": {},
   "outputs": [
    {
     "name": "stdout",
     "output_type": "stream",
     "text": [
      "***************************************************************************\n",
      "Scaling method: MinMaxScaler\n"
     ]
    }
   ],
   "source": [
    "rescaling = rescale(Data_train,Data_test, \n",
    "                            activity_col=activity_col, scaler_method = 'MinMaxScaler')\n",
    "rescaling.fit()\n",
    "Data_train = rescaling.data_train\n",
    "Data_test = rescaling.data_test"
   ]
  },
  {
   "cell_type": "code",
   "execution_count": 20,
   "id": "97d6dd7c-37a5-45d2-a179-8d13a0346812",
   "metadata": {},
   "outputs": [
    {
     "name": "stdout",
     "output_type": "stream",
     "text": [
      "No rescale\n"
     ]
    }
   ],
   "source": [
    "while True:\n",
    "    try:\n",
    "        with open(SAVE_PREFIX + 'rescale.pkl','wb') as f:\n",
    "            pickle.dump(rescaling.scl,f)\n",
    "        break\n",
    "    except:\n",
    "        print(\"No rescale\")\n",
    "        break"
   ]
  },
  {
   "cell_type": "markdown",
   "id": "1e929478",
   "metadata": {
    "id": "1e929478"
   },
   "source": [
    "# **5. Feature selection**"
   ]
  },
  {
   "cell_type": "code",
   "execution_count": 21,
   "id": "fb512f8e-b920-4f46-abf5-c9a362463eaf",
   "metadata": {},
   "outputs": [],
   "source": [
    "# 6. Feature engineering\n",
    "feature = feature_selection_pipeline(data_train=Data_train, data_test=Data_test, \n",
    "                                             activity_col=activity_col,task_type =task_type,\n",
    "                                             scoring = scoring, method ='XGB')\n",
    "feature.fit()\n",
    "X_train = feature.X_train_new\n",
    "X_test  = feature.X_test_new\n",
    "y_train = feature.y_train\n",
    "y_test  = feature.y_test"
   ]
  },
  {
   "cell_type": "code",
   "execution_count": 22,
   "id": "5dac0642-7bd1-4708-a485-530eaf77ec72",
   "metadata": {},
   "outputs": [],
   "source": [
    "while True:\n",
    "    try:\n",
    "        with open(SAVE_PREFIX + 'select_transform.pkl','wb') as f:\n",
    "            pickle.dump(feature.select,f)\n",
    "        break\n",
    "    except:\n",
    "        print(\"No rescale\")\n",
    "        break"
   ]
  },
  {
   "cell_type": "markdown",
   "id": "386dd093",
   "metadata": {
    "id": "386dd093"
   },
   "source": [
    "# **6. Machine learning model**"
   ]
  },
  {
   "cell_type": "code",
   "execution_count": 25,
   "id": "81792662",
   "metadata": {
    "executionInfo": {
     "elapsed": 2,
     "status": "ok",
     "timestamp": 1686759516163,
     "user": {
      "displayName": "Thế Chương Trịnh",
      "userId": "09949242108313888172"
     },
     "user_tz": -420
    },
    "id": "81792662"
   },
   "outputs": [],
   "source": [
    "# Classification\n",
    "from imblearn.pipeline import Pipeline\n",
    "from sklearn.metrics import accuracy_score, f1_score, roc_auc_score, classification_report, average_precision_score\n",
    "from sklearn.tree import DecisionTreeClassifier\n",
    "from sklearn.ensemble import RandomForestClassifier, ExtraTreesClassifier, AdaBoostClassifier, GradientBoostingClassifier\n",
    "from sklearn.linear_model import LogisticRegression\n",
    "from sklearn.neighbors import KNeighborsClassifier\n",
    "from xgboost import XGBClassifier\n",
    "from catboost import CatBoostClassifier\n",
    "from sklearn.model_selection import StratifiedKFold, cross_val_score, RepeatedStratifiedKFold\n",
    "from sklearn.svm import LinearSVC, SVC\n",
    "\n",
    "# Regression\n",
    "from sklearn.metrics import r2_score, mean_squared_error, mean_absolute_error\n",
    "from sklearn.tree import DecisionTreeRegressor\n",
    "from sklearn.ensemble import RandomForestRegressor, ExtraTreesRegressor, AdaBoostRegressor, GradientBoostingRegressor\n",
    "from sklearn.linear_model import LogisticRegression, LinearRegression, LassoCV\n",
    "from sklearn.neighbors import KNeighborsRegressor\n",
    "from xgboost import XGBRegressor\n",
    "from catboost import CatBoostRegressor\n",
    "from sklearn.model_selection import KFold, cross_val_score, RepeatedKFold\n",
    "from sklearn.svm import LinearSVR, SVR\n",
    "\n",
    "# imb\n",
    "from imblearn.under_sampling import TomekLinks\n",
    "from imblearn.under_sampling import  CondensedNearestNeighbour\n",
    "from imblearn.over_sampling import ADASYN\n",
    "from imblearn.over_sampling import SMOTE\n",
    "from imblearn.pipeline import Pipeline\n",
    "from imblearn.over_sampling import BorderlineSMOTE\n",
    "from imblearn.over_sampling import SVMSMOTE"
   ]
  },
  {
   "cell_type": "code",
   "execution_count": 26,
   "id": "KxlqZRihnqAJ",
   "metadata": {
    "colab": {
     "base_uri": "https://localhost:8080/"
    },
    "executionInfo": {
     "elapsed": 1007,
     "status": "ok",
     "timestamp": 1686759518918,
     "user": {
      "displayName": "Thế Chương Trịnh",
      "userId": "09949242108313888172"
     },
     "user_tz": -420
    },
    "id": "KxlqZRihnqAJ",
    "outputId": "336336c7-2a7c-471a-ca50-2f4902e7375e"
   },
   "outputs": [
    {
     "name": "stdout",
     "output_type": "stream",
     "text": [
      "f1 cross validation 0.853889159593455\n",
      "ap validation 0.9279525757736914\n",
      "              precision    recall  f1-score   support\n",
      "\n",
      "           0       0.95      0.93      0.94       325\n",
      "           1       0.85      0.89      0.87       139\n",
      "\n",
      "    accuracy                           0.92       464\n",
      "   macro avg       0.90      0.91      0.91       464\n",
      "weighted avg       0.92      0.92      0.92       464\n",
      "\n",
      "AUC = 0.959136690647482\n",
      "AP = 0.9135144285289861\n",
      "F1 = 0.8701754385964912\n"
     ]
    }
   ],
   "source": [
    "model = XGBClassifier(random_state = 42, verbosity=0, use_label_encoder=False, eval_metrics ='mlogloss',\n",
    "                     max_depth = 5, learning_rate = 0.13853526499953608, n_estimators = 54,\n",
    "                      min_child_weight = 1, gama = 0.0016145215090081605, subsample = 0.8893106963312789,\n",
    "                      colsample_bytree = 0.6351067897414812,\n",
    "                      reg_alpha = 3.3173836339552476e-07,\n",
    "                      reg_lambda = 5.833565947119527e-06\n",
    "                     )\n",
    "sampling = SMOTE(random_state=42,sampling_strategy =0.6080363095456893)\n",
    "steps = [('s', sampling),('m', model)]\n",
    "pipeline = Pipeline(steps = steps)\n",
    "pipeline.fit(X_train,y_train)\n",
    "cv= RepeatedStratifiedKFold(n_splits=10, n_repeats=3, random_state=42)\n",
    "scores_f1 = cross_val_score(pipeline, X_train, y_train, scoring = \"f1\", cv=cv, n_jobs = -1)\n",
    "scores_ap=cross_val_score(pipeline, X_train, y_train, scoring = \"average_precision\",\n",
    "                        cv= cv, n_jobs = -1)\n",
    "f1 = scores_f1.mean()\n",
    "ap = scores_ap.mean()\n",
    "print(\"f1 cross validation\", f1)\n",
    "print(\"ap validation\", ap)\n",
    "print(classification_report(y_test, pipeline.predict(X_test)))\n",
    "print('AUC =', roc_auc_score(y_test, pipeline.predict_proba(X_test)[:,1]))\n",
    "print('AP =', average_precision_score(y_test, pipeline.predict_proba(X_test)[:,1]))\n",
    "print('F1 =', f1_score(y_test, pipeline.predict(X_test)))"
   ]
  },
  {
   "cell_type": "code",
   "execution_count": 27,
   "id": "tQVcSS6WQ_2x",
   "metadata": {
    "executionInfo": {
     "elapsed": 576,
     "status": "ok",
     "timestamp": 1686759522738,
     "user": {
      "displayName": "Thế Chương Trịnh",
      "userId": "09949242108313888172"
     },
     "user_tz": -420
    },
    "id": "tQVcSS6WQ_2x"
   },
   "outputs": [],
   "source": [
    "# save model for prediction\n",
    "with open(SAVE_PREFIX + 'model.pkl','wb') as f:\n",
    "    pickle.dump(pipeline,f)"
   ]
  },
  {
   "cell_type": "code",
   "execution_count": 28,
   "id": "Ten91gQf3dFB",
   "metadata": {
    "colab": {
     "base_uri": "https://localhost:8080/"
    },
    "id": "Ten91gQf3dFB",
    "outputId": "b11f8775-de35-4fba-a7a0-6c4c65ed7187"
   },
   "outputs": [
    {
     "data": {
      "text/plain": [
       "array([0, 0, 0])"
      ]
     },
     "execution_count": 28,
     "metadata": {},
     "output_type": "execute_result"
    }
   ],
   "source": [
    "pipeline.predict(X_train[0:3])"
   ]
  },
  {
   "cell_type": "code",
   "execution_count": null,
   "id": "989ced2a-7e59-4829-9f25-08406b4a9308",
   "metadata": {},
   "outputs": [],
   "source": []
  }
 ],
 "metadata": {
  "colab": {
   "collapsed_sections": [
    "ee2207aa",
    "5b2a119e"
   ],
   "provenance": []
  },
  "kernelspec": {
   "display_name": "Python 3 (ipykernel)",
   "language": "python",
   "name": "python3"
  },
  "language_info": {
   "codemirror_mode": {
    "name": "ipython",
    "version": 3
   },
   "file_extension": ".py",
   "mimetype": "text/x-python",
   "name": "python",
   "nbconvert_exporter": "python",
   "pygments_lexer": "ipython3",
   "version": "3.9.16"
  }
 },
 "nbformat": 4,
 "nbformat_minor": 5
}
