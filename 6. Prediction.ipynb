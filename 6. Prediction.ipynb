{
 "cells": [
  {
   "cell_type": "markdown",
   "id": "f6RAFnAcJ2Q-",
   "metadata": {
    "id": "f6RAFnAcJ2Q-"
   },
   "source": [
    "# Prediction\n"
   ]
  },
  {
   "cell_type": "code",
   "execution_count": 10,
   "id": "sDaehPtirljg",
   "metadata": {
    "executionInfo": {
     "elapsed": 2,
     "status": "ok",
     "timestamp": 1686760489806,
     "user": {
      "displayName": "Thế Chương Trịnh",
      "userId": "09949242108313888172"
     },
     "user_tz": -420
    },
    "id": "sDaehPtirljg"
   },
   "outputs": [],
   "source": [
    "import pickle\n",
    "import os\n",
    "import numpy as np\n",
    "import pandas as pd\n",
    "import sys\n",
    "sys.path.append('qsar')\n",
    "from Prediction import predict\n",
    "\n",
    "data_path = os.getcwd() + '/Data/repurpose_pains.csv'\n",
    "SAVE_PREFIX  = os.getcwd() + '/utility/'\n",
    "activity_col = 'pChEMBL Value'\n",
    "task_type = 'C'\n",
    "target_thresh = 7\n",
    "var_thresh = 0.05\n",
    "scoring = 'f1'"
   ]
  },
  {
   "cell_type": "code",
   "execution_count": 11,
   "id": "0acd34c4-b969-4fda-97e3-2353ab14934a",
   "metadata": {},
   "outputs": [
    {
     "data": {
      "text/html": [
       "<div>\n",
       "<style scoped>\n",
       "    .dataframe tbody tr th:only-of-type {\n",
       "        vertical-align: middle;\n",
       "    }\n",
       "\n",
       "    .dataframe tbody tr th {\n",
       "        vertical-align: top;\n",
       "    }\n",
       "\n",
       "    .dataframe thead th {\n",
       "        text-align: right;\n",
       "    }\n",
       "</style>\n",
       "<table border=\"1\" class=\"dataframe\">\n",
       "  <thead>\n",
       "    <tr style=\"text-align: right;\">\n",
       "      <th></th>\n",
       "      <th>Unnamed: 0</th>\n",
       "      <th>Name</th>\n",
       "      <th>CanonSmiles</th>\n",
       "      <th>logp</th>\n",
       "      <th>mw</th>\n",
       "      <th>tpsa</th>\n",
       "      <th>n_hba</th>\n",
       "      <th>n_hbd</th>\n",
       "      <th>ro5</th>\n",
       "      <th>pfizer_rule_passed</th>\n",
       "      <th>...</th>\n",
       "      <th>pains_MatchedNames</th>\n",
       "      <th>alarmnmr_Disposed</th>\n",
       "      <th>alarmnmr_MatchedAtoms</th>\n",
       "      <th>alarmnmr_MatchedNames</th>\n",
       "      <th>bms_Disposed</th>\n",
       "      <th>bms_MatchedAtoms</th>\n",
       "      <th>bms_MatchedNames</th>\n",
       "      <th>chelator_Disposed</th>\n",
       "      <th>chelator_MatchedAtoms</th>\n",
       "      <th>chelator_MatchedNames</th>\n",
       "    </tr>\n",
       "  </thead>\n",
       "  <tbody>\n",
       "    <tr>\n",
       "      <th>0</th>\n",
       "      <td>21</td>\n",
       "      <td>Pyridoxal phosphate</td>\n",
       "      <td>Cc1ncc(COP(=O)(O)O)c(C=O)c1O.O</td>\n",
       "      <td>-0.30728</td>\n",
       "      <td>265.035138</td>\n",
       "      <td>148.45</td>\n",
       "      <td>5</td>\n",
       "      <td>3</td>\n",
       "      <td>4</td>\n",
       "      <td>True</td>\n",
       "      <td>...</td>\n",
       "      <td>['-']</td>\n",
       "      <td>Rejected</td>\n",
       "      <td>[((15, 14, 11, 4, 3, 2, 1),), ((11, 12, 13),)]</td>\n",
       "      <td>['c1ccccc1O', '[CH]=O']</td>\n",
       "      <td>Rejected</td>\n",
       "      <td>[((11, 12, 13),)]</td>\n",
       "      <td>['aldehyde']</td>\n",
       "      <td>Accepted</td>\n",
       "      <td>['-']</td>\n",
       "      <td>['-']</td>\n",
       "    </tr>\n",
       "    <tr>\n",
       "      <th>1</th>\n",
       "      <td>24</td>\n",
       "      <td>Histidine</td>\n",
       "      <td>N[C@@H](Cc1c[nH]cn1)C(=O)O</td>\n",
       "      <td>-0.63590</td>\n",
       "      <td>155.069477</td>\n",
       "      <td>92.00</td>\n",
       "      <td>3</td>\n",
       "      <td>3</td>\n",
       "      <td>5</td>\n",
       "      <td>True</td>\n",
       "      <td>...</td>\n",
       "      <td>['-']</td>\n",
       "      <td>Accepted</td>\n",
       "      <td>['-']</td>\n",
       "      <td>['-']</td>\n",
       "      <td>Accepted</td>\n",
       "      <td>['-']</td>\n",
       "      <td>['-']</td>\n",
       "      <td>Accepted</td>\n",
       "      <td>['-']</td>\n",
       "      <td>['-']</td>\n",
       "    </tr>\n",
       "    <tr>\n",
       "      <th>2</th>\n",
       "      <td>26</td>\n",
       "      <td>Pyruvic acid</td>\n",
       "      <td>CC(=O)C(=O)O</td>\n",
       "      <td>-0.34000</td>\n",
       "      <td>88.016044</td>\n",
       "      <td>54.37</td>\n",
       "      <td>2</td>\n",
       "      <td>1</td>\n",
       "      <td>5</td>\n",
       "      <td>True</td>\n",
       "      <td>...</td>\n",
       "      <td>['-']</td>\n",
       "      <td>Accepted</td>\n",
       "      <td>['-']</td>\n",
       "      <td>['-']</td>\n",
       "      <td>Rejected</td>\n",
       "      <td>[((1, 2, 3, 4),)]</td>\n",
       "      <td>['alpha_dicarbonyl']</td>\n",
       "      <td>Accepted</td>\n",
       "      <td>['-']</td>\n",
       "      <td>['-']</td>\n",
       "    </tr>\n",
       "    <tr>\n",
       "      <th>3</th>\n",
       "      <td>27</td>\n",
       "      <td>Phenylalanine</td>\n",
       "      <td>N[C@@H](Cc1ccccc1)C(=O)O</td>\n",
       "      <td>0.64100</td>\n",
       "      <td>165.078979</td>\n",
       "      <td>63.32</td>\n",
       "      <td>2</td>\n",
       "      <td>2</td>\n",
       "      <td>5</td>\n",
       "      <td>True</td>\n",
       "      <td>...</td>\n",
       "      <td>['-']</td>\n",
       "      <td>Accepted</td>\n",
       "      <td>['-']</td>\n",
       "      <td>['-']</td>\n",
       "      <td>Accepted</td>\n",
       "      <td>['-']</td>\n",
       "      <td>['-']</td>\n",
       "      <td>Accepted</td>\n",
       "      <td>['-']</td>\n",
       "      <td>['-']</td>\n",
       "    </tr>\n",
       "    <tr>\n",
       "      <th>4</th>\n",
       "      <td>28</td>\n",
       "      <td>Biotin</td>\n",
       "      <td>O=C(O)CCCCC1SCC2NC(=O)NC21</td>\n",
       "      <td>0.79680</td>\n",
       "      <td>244.088163</td>\n",
       "      <td>78.43</td>\n",
       "      <td>3</td>\n",
       "      <td>3</td>\n",
       "      <td>5</td>\n",
       "      <td>True</td>\n",
       "      <td>...</td>\n",
       "      <td>['-']</td>\n",
       "      <td>Rejected</td>\n",
       "      <td>[((7, 8, 9),)]</td>\n",
       "      <td>['CSC']</td>\n",
       "      <td>Accepted</td>\n",
       "      <td>['-']</td>\n",
       "      <td>['-']</td>\n",
       "      <td>Accepted</td>\n",
       "      <td>['-']</td>\n",
       "      <td>['-']</td>\n",
       "    </tr>\n",
       "  </tbody>\n",
       "</table>\n",
       "<p>5 rows × 33 columns</p>\n",
       "</div>"
      ],
      "text/plain": [
       "   Unnamed: 0                 Name                     CanonSmiles     logp  \\\n",
       "0          21  Pyridoxal phosphate  Cc1ncc(COP(=O)(O)O)c(C=O)c1O.O -0.30728   \n",
       "1          24            Histidine      N[C@@H](Cc1c[nH]cn1)C(=O)O -0.63590   \n",
       "2          26         Pyruvic acid                    CC(=O)C(=O)O -0.34000   \n",
       "3          27        Phenylalanine        N[C@@H](Cc1ccccc1)C(=O)O  0.64100   \n",
       "4          28               Biotin      O=C(O)CCCCC1SCC2NC(=O)NC21  0.79680   \n",
       "\n",
       "           mw    tpsa  n_hba  n_hbd  ro5  pfizer_rule_passed  ...  \\\n",
       "0  265.035138  148.45      5      3    4                True  ...   \n",
       "1  155.069477   92.00      3      3    5                True  ...   \n",
       "2   88.016044   54.37      2      1    5                True  ...   \n",
       "3  165.078979   63.32      2      2    5                True  ...   \n",
       "4  244.088163   78.43      3      3    5                True  ...   \n",
       "\n",
       "   pains_MatchedNames  alarmnmr_Disposed  \\\n",
       "0               ['-']           Rejected   \n",
       "1               ['-']           Accepted   \n",
       "2               ['-']           Accepted   \n",
       "3               ['-']           Accepted   \n",
       "4               ['-']           Rejected   \n",
       "\n",
       "                            alarmnmr_MatchedAtoms    alarmnmr_MatchedNames  \\\n",
       "0  [((15, 14, 11, 4, 3, 2, 1),), ((11, 12, 13),)]  ['c1ccccc1O', '[CH]=O']   \n",
       "1                                           ['-']                    ['-']   \n",
       "2                                           ['-']                    ['-']   \n",
       "3                                           ['-']                    ['-']   \n",
       "4                                  [((7, 8, 9),)]                  ['CSC']   \n",
       "\n",
       "   bms_Disposed   bms_MatchedAtoms      bms_MatchedNames  chelator_Disposed  \\\n",
       "0      Rejected  [((11, 12, 13),)]          ['aldehyde']           Accepted   \n",
       "1      Accepted              ['-']                 ['-']           Accepted   \n",
       "2      Rejected  [((1, 2, 3, 4),)]  ['alpha_dicarbonyl']           Accepted   \n",
       "3      Accepted              ['-']                 ['-']           Accepted   \n",
       "4      Accepted              ['-']                 ['-']           Accepted   \n",
       "\n",
       "   chelator_MatchedAtoms  chelator_MatchedNames  \n",
       "0                  ['-']                  ['-']  \n",
       "1                  ['-']                  ['-']  \n",
       "2                  ['-']                  ['-']  \n",
       "3                  ['-']                  ['-']  \n",
       "4                  ['-']                  ['-']  \n",
       "\n",
       "[5 rows x 33 columns]"
      ]
     },
     "execution_count": 11,
     "metadata": {},
     "output_type": "execute_result"
    }
   ],
   "source": [
    "data = pd.read_csv(data_path)\n",
    "data.head()"
   ]
  },
  {
   "cell_type": "code",
   "execution_count": 42,
   "id": "a2a595bf-7012-4cb4-bde7-1e6fe08fda76",
   "metadata": {},
   "outputs": [
    {
     "data": {
      "text/plain": [
       "(8333, 3)"
      ]
     },
     "execution_count": 42,
     "metadata": {},
     "output_type": "execute_result"
    }
   ],
   "source": [
    "data.shape"
   ]
  },
  {
   "cell_type": "code",
   "execution_count": 13,
   "id": "c8472ab4-ee36-4007-bf1b-48c97514b1a0",
   "metadata": {},
   "outputs": [
    {
     "name": "stderr",
     "output_type": "stream",
     "text": [
      "/tmp/ipykernel_1073869/496460073.py:2: SettingWithCopyWarning: \n",
      "A value is trying to be set on a copy of a slice from a DataFrame\n",
      "\n",
      "See the caveats in the documentation: https://pandas.pydata.org/pandas-docs/stable/user_guide/indexing.html#returning-a-view-versus-a-copy\n",
      "  data.rename(columns = {'Name':'ID','CanonSmiles':'SMILES'}, inplace = True)\n"
     ]
    },
    {
     "data": {
      "text/html": [
       "<div>\n",
       "<style scoped>\n",
       "    .dataframe tbody tr th:only-of-type {\n",
       "        vertical-align: middle;\n",
       "    }\n",
       "\n",
       "    .dataframe tbody tr th {\n",
       "        vertical-align: top;\n",
       "    }\n",
       "\n",
       "    .dataframe thead th {\n",
       "        text-align: right;\n",
       "    }\n",
       "</style>\n",
       "<table border=\"1\" class=\"dataframe\">\n",
       "  <thead>\n",
       "    <tr style=\"text-align: right;\">\n",
       "      <th></th>\n",
       "      <th>ID</th>\n",
       "      <th>SMILES</th>\n",
       "    </tr>\n",
       "  </thead>\n",
       "  <tbody>\n",
       "    <tr>\n",
       "      <th>0</th>\n",
       "      <td>Pyridoxal phosphate</td>\n",
       "      <td>Cc1ncc(COP(=O)(O)O)c(C=O)c1O.O</td>\n",
       "    </tr>\n",
       "    <tr>\n",
       "      <th>1</th>\n",
       "      <td>Histidine</td>\n",
       "      <td>N[C@@H](Cc1c[nH]cn1)C(=O)O</td>\n",
       "    </tr>\n",
       "  </tbody>\n",
       "</table>\n",
       "</div>"
      ],
      "text/plain": [
       "                    ID                          SMILES\n",
       "0  Pyridoxal phosphate  Cc1ncc(COP(=O)(O)O)c(C=O)c1O.O\n",
       "1            Histidine      N[C@@H](Cc1c[nH]cn1)C(=O)O"
      ]
     },
     "execution_count": 13,
     "metadata": {},
     "output_type": "execute_result"
    }
   ],
   "source": [
    "data = data[['Name','CanonSmiles']]\n",
    "data.rename(columns = {'Name':'ID','CanonSmiles':'SMILES'}, inplace = True)\n",
    "data.head(2)"
   ]
  },
  {
   "cell_type": "code",
   "execution_count": 14,
   "id": "d3442d16-9766-4fe5-9529-5f5f19987fcb",
   "metadata": {},
   "outputs": [
    {
     "name": "stderr",
     "output_type": "stream",
     "text": [
      "[13:42:15] WARNING: not removing hydrogen atom without neighbors\n",
      "[13:42:15] WARNING: not removing hydrogen atom without neighbors\n",
      "[13:42:15] WARNING: not removing hydrogen atom without neighbors\n",
      "[13:42:15] WARNING: not removing hydrogen atom without neighbors\n",
      "[13:42:15] WARNING: not removing hydrogen atom without neighbors\n",
      "[13:42:15] WARNING: not removing hydrogen atom without neighbors\n",
      "[13:42:15] WARNING: not removing hydrogen atom without neighbors\n",
      "[13:42:15] WARNING: not removing hydrogen atom without neighbors\n",
      "[13:42:15] WARNING: not removing hydrogen atom without neighbors\n",
      "[13:42:15] WARNING: not removing hydrogen atom without neighbors\n",
      "[13:42:15] WARNING: not removing hydrogen atom without neighbors\n",
      "[13:42:15] WARNING: not removing hydrogen atom without neighbors\n",
      "[13:42:15] WARNING: not removing hydrogen atom without neighbors\n",
      "[13:42:15] WARNING: not removing hydrogen atom without neighbors\n",
      "[13:42:15] WARNING: not removing hydrogen atom without neighbors\n",
      "[13:42:15] WARNING: not removing hydrogen atom without neighbors\n",
      "[13:42:15] WARNING: not removing hydrogen atom without neighbors\n",
      "[13:42:15] WARNING: not removing hydrogen atom without neighbors\n",
      "[13:42:16] WARNING: not removing hydrogen atom without neighbors\n",
      "[13:42:16] WARNING: not removing hydrogen atom without neighbors\n",
      "[13:42:16] WARNING: not removing hydrogen atom without neighbors\n",
      "[13:42:16] WARNING: not removing hydrogen atom without neighbors\n",
      "[13:42:16] WARNING: not removing hydrogen atom without neighbors\n",
      "[13:42:16] WARNING: not removing hydrogen atom without neighbors\n",
      "[13:42:16] WARNING: not removing hydrogen atom without neighbors\n",
      "[13:42:16] WARNING: not removing hydrogen atom without neighbors\n",
      "[13:42:16] WARNING: not removing hydrogen atom without neighbors\n",
      "[13:42:16] WARNING: not removing hydrogen atom without neighbors\n",
      "[13:42:16] WARNING: not removing hydrogen atom without neighbors\n",
      "[13:42:16] WARNING: not removing hydrogen atom without neighbors\n",
      "[13:42:16] WARNING: not removing hydrogen atom without neighbors\n",
      "[13:42:16] WARNING: not removing hydrogen atom without neighbors\n",
      "[13:42:16] WARNING: not removing hydrogen atom without neighbors\n",
      "[13:42:16] WARNING: not removing hydrogen atom without neighbors\n",
      "[13:42:16] WARNING: not removing hydrogen atom without neighbors\n",
      "[13:42:16] WARNING: not removing hydrogen atom without neighbors\n",
      "[13:42:16] WARNING: not removing hydrogen atom without neighbors\n",
      "[13:42:16] WARNING: not removing hydrogen atom without neighbors\n",
      "[13:42:16] WARNING: not removing hydrogen atom without neighbors\n",
      "[13:42:16] WARNING: not removing hydrogen atom without neighbors\n",
      "[13:42:16] WARNING: not removing hydrogen atom without neighbors\n",
      "[13:42:16] WARNING: not removing hydrogen atom without neighbors\n",
      "[13:42:16] WARNING: not removing hydrogen atom without neighbors\n",
      "[13:42:16] WARNING: not removing hydrogen atom without neighbors\n",
      "[13:42:16] WARNING: not removing hydrogen atom without neighbors\n",
      "[13:42:16] WARNING: not removing hydrogen atom without neighbors\n",
      "[13:42:16] WARNING: not removing hydrogen atom without neighbors\n",
      "[13:42:16] WARNING: not removing hydrogen atom without neighbors\n",
      "[13:42:16] WARNING: not removing hydrogen atom without neighbors\n",
      "[13:42:16] WARNING: not removing hydrogen atom without neighbors\n",
      "[13:42:16] WARNING: not removing hydrogen atom without neighbors\n",
      "[13:42:16] WARNING: not removing hydrogen atom without neighbors\n",
      "[13:42:16] WARNING: not removing hydrogen atom without neighbors\n",
      "[13:42:16] WARNING: not removing hydrogen atom without neighbors\n",
      "[13:42:16] WARNING: not removing hydrogen atom without neighbors\n",
      "[13:42:16] WARNING: not removing hydrogen atom without neighbors\n",
      "/tmp/ipykernel_1073869/1535021658.py:3: SettingWithCopyWarning: \n",
      "A value is trying to be set on a copy of a slice from a DataFrame.\n",
      "Try using .loc[row_indexer,col_indexer] = value instead\n",
      "\n",
      "See the caveats in the documentation: https://pandas.pydata.org/pandas-docs/stable/user_guide/indexing.html#returning-a-view-versus-a-copy\n",
      "  data['Molecule'] = data['SMILES'].apply(Chem.MolFromSmiles)\n"
     ]
    }
   ],
   "source": [
    "from rdkit import Chem\n",
    "from rdkit import Chem, DataStructs\n",
    "data['Molecule'] = data['SMILES'].apply(Chem.MolFromSmiles)\n",
    "def RDKFp(mol, maxPath=7, fpSize=4096, nBitsPerHash=2):\n",
    "        fp = Chem.RDKFingerprint(mol, maxPath=maxPath, fpSize=fpSize, nBitsPerHash=nBitsPerHash)\n",
    "        ar = np.zeros((1,), dtype=np.int8)\n",
    "        DataStructs.ConvertToNumpyArray(fp, ar)\n",
    "        return ar\n",
    "RDKF = data.copy()\n",
    "RDKF[\"FPs\"] = RDKF.Molecule.apply(RDKFp)\n",
    "X = np.stack(RDKF.FPs.values)\n",
    "df = pd.DataFrame(X)\n",
    "RDKF_visualize= pd.concat([RDKF, df], axis = 1).drop([RDKF.columns[1],\"FPs\", \"Molecule\"], axis =1)\n",
    "RDKF_visualize['pChEMBL Value'] = 0\n",
    "RDKF_visualize.columns = RDKF_visualize.columns.astype('string')"
   ]
  },
  {
   "cell_type": "code",
   "execution_count": 15,
   "id": "NHMlp9K0q_PS",
   "metadata": {
    "colab": {
     "base_uri": "https://localhost:8080/"
    },
    "executionInfo": {
     "elapsed": 18143,
     "status": "ok",
     "timestamp": 1686762365482,
     "user": {
      "displayName": "Thế Chương Trịnh",
      "userId": "09949242108313888172"
     },
     "user_tz": -420
    },
    "id": "NHMlp9K0q_PS",
    "outputId": "ed6d3d31-6ac6-498a-840f-bd1213a055a7"
   },
   "outputs": [
    {
     "name": "stdout",
     "output_type": "stream",
     "text": [
      "The number of active structures: 44\n",
      "Percentage of active structures: 0.5280211208448338\n"
     ]
    },
    {
     "name": "stderr",
     "output_type": "stream",
     "text": [
      "/home/labhhc/anaconda3/envs/QSAR/lib/python3.9/site-packages/sklearn/base.py:402: UserWarning: X has feature names, but SelectFromModel was fitted without feature names\n",
      "  warnings.warn(\n"
     ]
    }
   ],
   "source": [
    "pred = predict(materials_path =SAVE_PREFIX,\n",
    "               data = RDKF_visualize,\n",
    "               activity_col=activity_col,\n",
    "              ID = 'ID')\n",
    "Report = pred.predict()"
   ]
  },
  {
   "cell_type": "code",
   "execution_count": 22,
   "id": "06f077e7-0574-40d5-bef7-211018130386",
   "metadata": {},
   "outputs": [],
   "source": [
    "final = pd.concat([data, Report.drop(['Index'], axis =1)], axis=1)\n"
   ]
  },
  {
   "cell_type": "code",
   "execution_count": 23,
   "id": "5-u0-2mYtd9j",
   "metadata": {
    "colab": {
     "base_uri": "https://localhost:8080/",
     "height": 423
    },
    "executionInfo": {
     "elapsed": 5,
     "status": "ok",
     "timestamp": 1686762372717,
     "user": {
      "displayName": "Thế Chương Trịnh",
      "userId": "09949242108313888172"
     },
     "user_tz": -420
    },
    "id": "5-u0-2mYtd9j",
    "outputId": "055bdebd-6cbc-41e3-bbeb-a52c97ca1204"
   },
   "outputs": [
    {
     "data": {
      "text/html": [
       "<div>\n",
       "<style scoped>\n",
       "    .dataframe tbody tr th:only-of-type {\n",
       "        vertical-align: middle;\n",
       "    }\n",
       "\n",
       "    .dataframe tbody tr th {\n",
       "        vertical-align: top;\n",
       "    }\n",
       "\n",
       "    .dataframe thead th {\n",
       "        text-align: right;\n",
       "    }\n",
       "</style>\n",
       "<table border=\"1\" class=\"dataframe\">\n",
       "  <thead>\n",
       "    <tr style=\"text-align: right;\">\n",
       "      <th></th>\n",
       "      <th>ID</th>\n",
       "      <th>SMILES</th>\n",
       "      <th>Molecule</th>\n",
       "      <th>Probability</th>\n",
       "      <th>Predict</th>\n",
       "    </tr>\n",
       "  </thead>\n",
       "  <tbody>\n",
       "    <tr>\n",
       "      <th>6597</th>\n",
       "      <td>GSK-364735</td>\n",
       "      <td>Cn1c(=O)c(C(=O)NCCO)c(O)c2ncc(Cc3ccc(F)cc3)cc21</td>\n",
       "      <td>&lt;rdkit.Chem.rdchem.Mol object at 0x7f682ec40f90&gt;</td>\n",
       "      <td>99.592064</td>\n",
       "      <td>1</td>\n",
       "    </tr>\n",
       "    <tr>\n",
       "      <th>5876</th>\n",
       "      <td>Elvitegravir</td>\n",
       "      <td>COc1cc2c(cc1Cc1cccc(Cl)c1F)c(=O)c(C(=O)O)cn2[C...</td>\n",
       "      <td>&lt;rdkit.Chem.rdchem.Mol object at 0x7f682ecacf20&gt;</td>\n",
       "      <td>98.818932</td>\n",
       "      <td>1</td>\n",
       "    </tr>\n",
       "    <tr>\n",
       "      <th>5756</th>\n",
       "      <td>Dolutegravir</td>\n",
       "      <td>C[C@@H]1CCO[C@H]2Cn3cc(C(=O)NCc4ccc(F)cc4F)c(=...</td>\n",
       "      <td>&lt;rdkit.Chem.rdchem.Mol object at 0x7f682eca9a50&gt;</td>\n",
       "      <td>98.627785</td>\n",
       "      <td>1</td>\n",
       "    </tr>\n",
       "    <tr>\n",
       "      <th>8227</th>\n",
       "      <td>Cabotegravir</td>\n",
       "      <td>C[C@H]1CO[C@@H]2Cn3cc(C(=O)NCc4ccc(F)cc4F)c(=O...</td>\n",
       "      <td>&lt;rdkit.Chem.rdchem.Mol object at 0x7f682ec6e430&gt;</td>\n",
       "      <td>98.067894</td>\n",
       "      <td>1</td>\n",
       "    </tr>\n",
       "    <tr>\n",
       "      <th>5411</th>\n",
       "      <td>3-({4-[(6-CHLORO-1-BENZOTHIEN-2-YL)SULFONYL]-2...</td>\n",
       "      <td>N=C(N)c1cccc(CN2CCN(S(=O)(=O)c3cc4ccc(Cl)cc4s3...</td>\n",
       "      <td>&lt;rdkit.Chem.rdchem.Mol object at 0x7f682eca00b0&gt;</td>\n",
       "      <td>81.362564</td>\n",
       "      <td>1</td>\n",
       "    </tr>\n",
       "  </tbody>\n",
       "</table>\n",
       "</div>"
      ],
      "text/plain": [
       "                                                     ID  \\\n",
       "6597                                         GSK-364735   \n",
       "5876                                       Elvitegravir   \n",
       "5756                                       Dolutegravir   \n",
       "8227                                       Cabotegravir   \n",
       "5411  3-({4-[(6-CHLORO-1-BENZOTHIEN-2-YL)SULFONYL]-2...   \n",
       "\n",
       "                                                 SMILES  \\\n",
       "6597    Cn1c(=O)c(C(=O)NCCO)c(O)c2ncc(Cc3ccc(F)cc3)cc21   \n",
       "5876  COc1cc2c(cc1Cc1cccc(Cl)c1F)c(=O)c(C(=O)O)cn2[C...   \n",
       "5756  C[C@@H]1CCO[C@H]2Cn3cc(C(=O)NCc4ccc(F)cc4F)c(=...   \n",
       "8227  C[C@H]1CO[C@@H]2Cn3cc(C(=O)NCc4ccc(F)cc4F)c(=O...   \n",
       "5411  N=C(N)c1cccc(CN2CCN(S(=O)(=O)c3cc4ccc(Cl)cc4s3...   \n",
       "\n",
       "                                              Molecule  Probability  Predict  \n",
       "6597  <rdkit.Chem.rdchem.Mol object at 0x7f682ec40f90>    99.592064        1  \n",
       "5876  <rdkit.Chem.rdchem.Mol object at 0x7f682ecacf20>    98.818932        1  \n",
       "5756  <rdkit.Chem.rdchem.Mol object at 0x7f682eca9a50>    98.627785        1  \n",
       "8227  <rdkit.Chem.rdchem.Mol object at 0x7f682ec6e430>    98.067894        1  \n",
       "5411  <rdkit.Chem.rdchem.Mol object at 0x7f682eca00b0>    81.362564        1  "
      ]
     },
     "execution_count": 23,
     "metadata": {},
     "output_type": "execute_result"
    }
   ],
   "source": [
    "final.sort_values(by='Probability', ascending = False).head()"
   ]
  },
  {
   "cell_type": "code",
   "execution_count": 41,
   "id": "4fa8c8ca-ac68-44ef-b0f1-dfd132523690",
   "metadata": {},
   "outputs": [],
   "source": [
    "final[final['Predict']>0].to_csv('final_screen.csv')"
   ]
  },
  {
   "cell_type": "code",
   "execution_count": null,
   "id": "51747ce1-4a93-4b52-9706-07e36ea1215c",
   "metadata": {},
   "outputs": [],
   "source": []
  }
 ],
 "metadata": {
  "colab": {
   "collapsed_sections": [
    "q4024ZC0kefu",
    "ee2207aa",
    "2922f5d2",
    "5b2a119e",
    "1e929478"
   ],
   "provenance": [],
   "toc_visible": true
  },
  "kernelspec": {
   "display_name": "Python 3 (ipykernel)",
   "language": "python",
   "name": "python3"
  },
  "language_info": {
   "codemirror_mode": {
    "name": "ipython",
    "version": 3
   },
   "file_extension": ".py",
   "mimetype": "text/x-python",
   "name": "python",
   "nbconvert_exporter": "python",
   "pygments_lexer": "ipython3",
   "version": "3.9.16"
  }
 },
 "nbformat": 4,
 "nbformat_minor": 5
}
